{
 "cells": [
  {
   "cell_type": "code",
   "execution_count": 1,
   "id": "af06c988",
   "metadata": {},
   "outputs": [],
   "source": [
    "#Notebook do prezentacji"
   ]
  },
  {
   "cell_type": "code",
   "execution_count": null,
   "id": "a40d3eee",
   "metadata": {},
   "outputs": [],
   "source": []
  },
  {
   "cell_type": "code",
   "execution_count": null,
   "id": "133cc477",
   "metadata": {},
   "outputs": [],
   "source": []
  }
 ],
 "metadata": {
  "kernelspec": {
   "display_name": "Julia 1.8.5",
   "language": "julia",
   "name": "julia-1.8"
  },
  "language_info": {
   "file_extension": ".jl",
   "mimetype": "application/julia",
   "name": "julia",
   "version": "1.8.5"
  }
 },
 "nbformat": 4,
 "nbformat_minor": 5
}
